{
 "cells": [
  {
   "cell_type": "markdown",
   "id": "73074f94",
   "metadata": {},
   "source": [
    "\n",
    "# Python Scripting Assignment — File Operations & Web Scraping\n",
    "- Ajay kumar\n",
    "\n",
    "---\n",
    "\n",
    "**Assignment :**  \n",
    "1. Write Python scripts for basic file operations and data processing.  \n",
    "2. Develop a simple web scraper to extract data from a website and save the results.\n",
    "\n",
    "\n"
   ]
  },
  {
   "cell_type": "markdown",
   "id": "dd37da3f",
   "metadata": {},
   "source": [
    "\n",
    "## Tools, libraries & environment (prerequisites)\n",
    "\n",
    "- Python 3.8+ (3.10 recommended)  \n",
    "- Recommended: used a virtual environment (`venv`) for package isolation.  \n",
    "- Python packages used in this assignment:\n",
    "  - `requests`\n",
    "  - `beautifulsoup4`\n"
   ]
  },
  {
   "cell_type": "markdown",
   "id": "8e4241fe",
   "metadata": {},
   "source": [
    "\n",
    "## Project structure\n",
    "\n",
    "```\n",
    "python-scripting-assignment/\n",
    "├── assignment.ipynb                 \n",
    "├── file_operations.py              \n",
    "├── data_processing.py               # script that reads data.csv and prints stats\n",
    "├── web_scraper.py                   # script version of the web scraper\n",
    "├── requirements.txt                 # python dependencies\n",
    "└── README.md                        \n",
    "```\n"
   ]
  },
  {
   "cell_type": "markdown",
   "id": "44296ee7",
   "metadata": {},
   "source": [
    "\n",
    "---\n",
    "## Part 1 — Basic File Operations & Data Processing \n",
    "\n",
    "File operations are the backbone of many automation and data tasks. we may need to ingest logs, append data, or transform CSV files, so being fluent with Python I/O and CSV handling is essential.\n",
    "\n",
    "**This part covers:**\n",
    "\n",
    "1. Create `sample.txt` using Python and write a few lines to it.  \n",
    "2. Read the file, print the contents, append at least one new line and show that the appended line exists.  \n",
    "3. Count the number of lines and words and report them.  \n",
    "4. Create a `data.csv` file containing at least 4 rows of \"Name\" and \"Score\" fields; then read the CSV and calculate average and max score programmatically.  \n",
    "\n"
   ]
  },
  {
   "cell_type": "markdown",
   "id": "68798f48",
   "metadata": {},
   "source": [
    "### Step 1 : create `sample.txt`, read & append "
   ]
  },
  {
   "cell_type": "code",
   "execution_count": null,
   "id": "3660a885",
   "metadata": {},
   "outputs": [],
   "source": [
    "# Basic File Operations\n",
    "with open(\"sample.txt\", \"w\") as f:\n",
    "    f.write(\"Hello, this is a test file.\\n\")\n",
    "    f.write(\"We are practicing Python file operations.\\n\")\n",
    "\n",
    "with open(\"sample.txt\", \"a\") as f:\n",
    "    f.write(\"This is an appended line.\\n\")\n",
    "\n",
    "with open(\"sample.txt\", \"r\") as f:\n",
    "    lines = f.readlines()\n",
    "\n",
    "line_count = len(lines)\n",
    "word_count = sum(len(line.split()) for line in lines)\n",
    "\n",
    "print(f\"Total lines: {line_count}\")\n",
    "print(f\"Total words: {word_count}\")"
   ]
  },
  {
   "cell_type": "markdown",
   "id": "83744ccc",
   "metadata": {},
   "source": [
    "\n",
    "### Step 2: CSV creation & simple data processing\n",
    "\n",
    "We will create a small CSV file `data.csv` with columns `Name` and `Score`, then compute simple statistics.\n"
   ]
  },
  {
   "cell_type": "code",
   "execution_count": null,
   "id": "71b13bd6",
   "metadata": {},
   "outputs": [],
   "source": [
    "import csv\n",
    "\n",
    "# Create CSV\n",
    "with open(\"data.csv\", \"w\", newline=\"\") as f:\n",
    "    writer = csv.writer(f)\n",
    "    writer.writerow([\"Name\", \"Score\"])\n",
    "    writer.writerow([\"Suresh\", 85])\n",
    "    writer.writerow([\"Ramesh\", 90])\n",
    "    writer.writerow([\"Riya\", 78])\n",
    "    writer.writerow([\"Pallavi\", 92])\n",
    "\n",
    "# Read CSV\n",
    "scores = []\n",
    "with open(\"data.csv\", \"r\") as f:\n",
    "    reader = csv.DictReader(f)\n",
    "    for row in reader:\n",
    "        scores.append(int(row[\"Score\"]))\n",
    "\n",
    "average_score = sum(scores) / len(scores)\n",
    "print(\"Scores:\", scores)\n",
    "print(\"Average Score:\", average_score)\n",
    "print(\"Max Score:\", max(scores))"
   ]
  },
  {
   "cell_type": "markdown",
   "id": "fe822892",
   "metadata": {},
   "source": [
    "\n",
    "---\n",
    "## Part 2: Simple Web Scraper\n",
    "  \n",
    "  - we are using `quotes.toscrape.com` which is intentionally made for scraping practice. \n",
    "\n",
    "**This covers:**  \n",
    "1. Build a scraper that fetches the page `http://quotes.toscrape.com`.  \n",
    "2. Extract quote text, author, and tags for each quote on the first page.  \n",
    "3. Save the results into `quotes.csv`.  "
   ]
  },
  {
   "cell_type": "markdown",
   "id": "af538b2f",
   "metadata": {},
   "source": [
    "### Scraper code (requests + BeautifulSoup) "
   ]
  },
  {
   "cell_type": "code",
   "execution_count": null,
   "id": "3c6248ac",
   "metadata": {},
   "outputs": [],
   "source": [
    "import requests\n",
    "from bs4 import BeautifulSoup\n",
    "import csv\n",
    "\n",
    "url = \"http://quotes.toscrape.com\"\n",
    "response = requests.get(url)\n",
    "soup = BeautifulSoup(response.text, \"html.parser\")\n",
    "\n",
    "quotes = soup.find_all(\"span\", class_=\"text\")\n",
    "authors = soup.find_all(\"small\", class_=\"author\")\n",
    "\n",
    "with open(\"quotes.csv\", \"w\", newline=\"\", encoding=\"utf-8\") as f:\n",
    "    writer = csv.writer(f)\n",
    "    writer.writerow([\"Quote\", \"Author\"])\n",
    "    for q, a in zip(quotes, authors):\n",
    "        writer.writerow([q.text, a.text])\n",
    "\n",
    "print(f\"Scraped {len(quotes)} quotes and saved to quotes.csv\")"
   ]
  },
  {
   "cell_type": "markdown",
   "id": "c7a24f01",
   "metadata": {},
   "source": [
    "\n",
    "---\n",
    "## THANK YOU\n",
    "\n",
    "\n",
    "\n"
   ]
  }
 ],
 "metadata": {
  "language_info": {
   "name": "python"
  }
 },
 "nbformat": 4,
 "nbformat_minor": 5
}
